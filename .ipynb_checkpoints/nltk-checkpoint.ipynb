{
 "cells": [
  {
   "cell_type": "markdown",
   "metadata": {},
   "source": [
    "# Import necessary libraries"
   ]
  },
  {
   "cell_type": "code",
   "execution_count": 1,
   "metadata": {
    "collapsed": true
   },
   "outputs": [],
   "source": [
    "import nltk\n",
    "from bs4 import BeautifulSoup"
   ]
  },
  {
   "cell_type": "markdown",
   "metadata": {},
   "source": [
    "List Of dummy data"
   ]
  },
  {
   "cell_type": "code",
   "execution_count": 2,
   "metadata": {
    "collapsed": true
   },
   "outputs": [],
   "source": [
    "bn_text = [\"অস্ট্রেলিয়া ইনিংসের ১৮ ওভার শেষ হতেই অপেক্ষা শুরু হয়ে গেল। টি-টোয়েন্টিতে দলীয় ও ব্যক্তিগত দুটি রেকর্ডই যে তখন নতুন করে লেখার অপেক্ষায়। ২ ওভারে অস্ট্রেলিয়ার দরকার ২৯ রান, গ্লেন ম্যাক্সওয়েলের ১৫। দল পারলেও ‘ব্যর্থ’ ম্যাক্সওয়েল। ১৪৫ রানে অপরাজিত থেকেই তৃপ্ত থাকতে হলো ম্যাক্সওয়েলকে। তবে টি-টোয়েন্টিতে দলীয় সর্বোচ্চ ২৬৩ রানের রেকর্ড গড়ল অস্ট্রেলিয়া, শ্রীলঙ্কার বিপক্ষে সিরিজের প্রথম টি-টোয়েন্টি ম্যাচটিও জিতে গেল ৮৫ রানে।\",\n",
    "           \"ক্রিকেটের তিন সংস্করণেই দলীয় সর্বোচ্চ রানের রেকর্ডটি ছিল শ্রীলঙ্কার। ইংল্যান্ডের কাছে ওয়ানডের রেকর্ডটি গত সপ্তাহেই হাতছাড়া হয়েছে। এক সপ্তাহ পরই টি-টোয়েন্টির রেকর্ডটিও হাতছাড়া হলো, সেটিও নিজেদের মাটিতে। ২০০৭ সালে কেনিয়ার বিপক্ষে ২৬০ রান করেছিল শ্রীলঙ্কা, এত দিন ওটাই ছিল টি-টোয়েন্টিতে দলীয় সর্বোচ্চ রানের বিশ্ব রেকর্ড।\",\n",
    "           \"নতুন ভূমিকায় মানিয়ে নিতে একটু সময় নিয়েছিলেন ‘ম্যাড–ম্যাক্স’। প্রথম চার মারতে অষ্টম বল পর্যন্ত অপেক্ষা। কিন্তু ওই চার দিয়ে যে ঝড় শুরু, সেটি ইনিংসের শেষ ওভারের আগে আর থামেনি। ১৪টি চার ও ৯টি ছক্কায় ৬৫ বলে ১৪৫ রান করেছেন ম্যাক্সওয়েল। একসময় তো টি-টোয়েন্টিতে ব্যক্তিগত সর্বোচ্চ অস্ট্রেলিয়ার অ্যারন ফিঞ্চের ১৫৬ রানের রেকর্ডকেও হুমকির মুখে ফেলে দিয়েছিলেন। কিন্তু শেষ দুই ওভারে মাত্র ৩ বল খেলার সুযোগ পেয়ে ৩ রান করায় সেটি আর সম্ভব হয়নি।\"]"
   ]
  },
  {
   "cell_type": "markdown",
   "metadata": {},
   "source": [
    "Inital cleaning - remove html or any other formating"
   ]
  },
  {
   "cell_type": "code",
   "execution_count": 3,
   "metadata": {
    "collapsed": false
   },
   "outputs": [
    {
     "name": "stderr",
     "output_type": "stream",
     "text": [
      "/home/meftaul/anaconda3/lib/python3.5/site-packages/bs4/__init__.py:166: UserWarning: No parser was explicitly specified, so I'm using the best available HTML parser for this system (\"lxml\"). This usually isn't a problem, but if you run this code on another system, or in a different virtual environment, it may use a different parser and behave differently.\n",
      "\n",
      "To get rid of this warning, change this:\n",
      "\n",
      " BeautifulSoup([your markup])\n",
      "\n",
      "to this:\n",
      "\n",
      " BeautifulSoup([your markup], \"lxml\")\n",
      "\n",
      "  markup_type=markup_type))\n"
     ]
    }
   ],
   "source": [
    "clean_bn_text = []\n",
    "# Remove html\n",
    "for text in bn_text:\n",
    "    clean_text = BeautifulSoup(text)\n",
    "    clean_bn_text.append(clean_text.get_text())"
   ]
  },
  {
   "cell_type": "code",
   "execution_count": 4,
   "metadata": {
    "collapsed": false
   },
   "outputs": [
    {
     "data": {
      "text/plain": [
       "['অস্ট্রেলিয়া ইনিংসের ১৮ ওভার শেষ হতেই অপেক্ষা শুরু হয়ে গেল। টি-টোয়েন্টিতে দলীয় ও ব্যক্তিগত দুটি রেকর্ডই যে তখন নতুন করে লেখার অপেক্ষায়। ২ ওভারে অস্ট্রেলিয়ার দরকার ২৯ রান, গ্লেন ম্যাক্সওয়েলের ১৫। দল পারলেও ‘ব্যর্থ’ ম্যাক্সওয়েল। ১৪৫ রানে অপরাজিত থেকেই তৃপ্ত থাকতে হলো ম্যাক্সওয়েলকে। তবে টি-টোয়েন্টিতে দলীয় সর্বোচ্চ ২৬৩ রানের রেকর্ড গড়ল অস্ট্রেলিয়া, শ্রীলঙ্কার বিপক্ষে সিরিজের প্রথম টি-টোয়েন্টি ম্যাচটিও জিতে গেল ৮৫ রানে।',\n",
       " 'ক্রিকেটের তিন সংস্করণেই দলীয় সর্বোচ্চ রানের রেকর্ডটি ছিল শ্রীলঙ্কার। ইংল্যান্ডের কাছে ওয়ানডের রেকর্ডটি গত সপ্তাহেই হাতছাড়া হয়েছে। এক সপ্তাহ পরই টি-টোয়েন্টির রেকর্ডটিও হাতছাড়া হলো, সেটিও নিজেদের মাটিতে। ২০০৭ সালে কেনিয়ার বিপক্ষে ২৬০ রান করেছিল শ্রীলঙ্কা, এত দিন ওটাই ছিল টি-টোয়েন্টিতে দলীয় সর্বোচ্চ রানের বিশ্ব রেকর্ড।',\n",
       " 'নতুন ভূমিকায় মানিয়ে নিতে একটু সময় নিয়েছিলেন ‘ম্যাড–ম্যাক্স’। প্রথম চার মারতে অষ্টম বল পর্যন্ত অপেক্ষা। কিন্তু ওই চার দিয়ে যে ঝড় শুরু, সেটি ইনিংসের শেষ ওভারের আগে আর থামেনি। ১৪টি চার ও ৯টি ছক্কায় ৬৫ বলে ১৪৫ রান করেছেন ম্যাক্সওয়েল। একসময় তো টি-টোয়েন্টিতে ব্যক্তিগত সর্বোচ্চ অস্ট্রেলিয়ার অ্যারন ফিঞ্চের ১৫৬ রানের রেকর্ডকেও হুমকির মুখে ফেলে দিয়েছিলেন। কিন্তু শেষ দুই ওভারে মাত্র ৩ বল খেলার সুযোগ পেয়ে ৩ রান করায় সেটি আর সম্ভব হয়নি।']"
      ]
     },
     "execution_count": 4,
     "metadata": {},
     "output_type": "execute_result"
    }
   ],
   "source": [
    "clean_bn_text"
   ]
  },
  {
   "cell_type": "markdown",
   "metadata": {},
   "source": [
    "## First tokenize words"
   ]
  },
  {
   "cell_type": "code",
   "execution_count": 5,
   "metadata": {
    "collapsed": false,
    "scrolled": true
   },
   "outputs": [
    {
     "name": "stdout",
     "output_type": "stream",
     "text": [
      "<class 'list'>\n",
      "184\n",
      "['অস্ট্রেলিয়া', 'ইনিংসের', '১৮', 'ওভার', 'শেষ', 'হতেই', 'অপেক্ষা', 'শুরু', 'হয়ে', 'গেল।']\n"
     ]
    }
   ],
   "source": [
    "tokens = []\n",
    "for text in clean_bn_text:\n",
    "    tokens = tokens + nltk.word_tokenize(text)\n",
    "print(type(tokens))\n",
    "print(len(tokens))\n",
    "print(tokens[:10])\n",
    "\n",
    "#nltk.FreqDist(tokens)"
   ]
  },
  {
   "cell_type": "code",
   "execution_count": 6,
   "metadata": {
    "collapsed": true
   },
   "outputs": [],
   "source": [
    "from difflib import SequenceMatcher\n",
    "\n",
    "def similar(a,b):\n",
    "    return SequenceMatcher(None, a, b).ratio()"
   ]
  },
  {
   "cell_type": "code",
   "execution_count": 7,
   "metadata": {
    "collapsed": false
   },
   "outputs": [
    {
     "data": {
      "text/plain": [
       "'নতুন ভূমিকায় মানিয়ে নিতে একটু সময় নিয়েছিলেন ‘ম্যাড–ম্যাক্স’। প্রথম চার মারতে অষ্টম বল পর্যন্ত অপেক্ষা। কিন্তু ওই চার দিয়ে যে ঝড় শুরু, সেটি ইনিংসের শেষ ওভারের আগে আর থামেনি। ১৪টি চার ও ৯টি ছক্কায় ৬৫ বলে ১৪৫ রান করেছেন ম্যাক্সওয়েল। একসময় তো টি-টোয়েন্টিতে ব্যক্তিগত সর্বোচ্চ অস্ট্রেলিয়ার অ্যারন ফিঞ্চের ১৫৬ রানের রেকর্ডকেও হুমকির মুখে ফেলে দিয়েছিলেন। কিন্তু শেষ দুই ওভারে মাত্র ৩ বল খেলার সুযোগ পেয়ে ৩ রান করায় সেটি আর সম্ভব হয়নি।'"
      ]
     },
     "execution_count": 7,
     "metadata": {},
     "output_type": "execute_result"
    }
   ],
   "source": [
    "clean_bn_text[2]"
   ]
  },
  {
   "cell_type": "code",
   "execution_count": 68,
   "metadata": {
    "collapsed": false,
    "scrolled": false
   },
   "outputs": [],
   "source": [
    "er = 'ের' #- er\n",
    "ei = 'েই' #- ei\n",
    "der = 'দের'\n",
    "eo = 'েও' #- কেও\n",
    "chilen = 'ছিলেন' #ছিলেন\n",
    "ir = 'ির' # হুমকির\n",
    "io = 'ীয়' #দলীয়\n",
    "\n",
    "suffix_list = [der, chilen, er, ir, ei, eo,io,  'এ', 'তে', 'কে', 'রে' , 'গুলি',\n",
    "               'গুলো','গুলা']\n",
    "\n",
    "#def stem(word):\n",
    "#    for suffix in suffix_list:\n",
    "#        if word.endswith(suffix):\n",
    "#            return word[:-len(suffix)]\n",
    " \n",
    "import re\n",
    "def stem(word):\n",
    "    if word.endswith('।'):\n",
    "        word = word[:-len('।')]\n",
    "        \n",
    "    regexp = r'^(.*?)(ে|ের|েই|দের|ছিলেন|ির|ীয়|েও|টি|ও|র|তে|কে|গুলি|গুলো|গুলা|ছিলেন|ছিল|লেন)?$'\n",
    "    stem, suffix = re.findall(regexp, word)[0]\n",
    "    return stem\n",
    "    "
   ]
  },
  {
   "cell_type": "code",
   "execution_count": 69,
   "metadata": {
    "collapsed": false,
    "scrolled": true
   },
   "outputs": [
    {
     "name": "stdout",
     "output_type": "stream",
     "text": [
      "অপেক্ষায়।\n",
      "ম্যাক্সওয়েল।\n",
      "ম্যাক্সওয়েলকে।\n",
      "রানে।\n",
      "শ্রীলঙ্কার।\n",
      "হয়েছে।\n",
      "মাটিতে।\n",
      "রেকর্ড।\n",
      "‘ম্যাড–ম্যাক্স’।\n",
      "অপেক্ষা।\n",
      "থামেনি।\n",
      "ম্যাক্সওয়েল।\n",
      "দিয়েছিলেন।\n",
      "হয়নি।\n"
     ]
    },
    {
     "data": {
      "text/plain": [
       "['অস্ট্রেলিয়া',\n",
       " 'ইনিংস',\n",
       " '১৮',\n",
       " 'ওভার',\n",
       " 'শেষ',\n",
       " 'হতেই',\n",
       " 'অপেক্ষা',\n",
       " 'শুরু',\n",
       " 'হয়ে',\n",
       " 'গেল।',\n",
       " 'টি-টোয়েন্টি',\n",
       " 'দলীয়',\n",
       " 'ও',\n",
       " 'ব্যক্তিগত',\n",
       " 'দুটি',\n",
       " 'রেকর্ডই',\n",
       " 'যে',\n",
       " 'তখন',\n",
       " 'নতুন',\n",
       " 'করে',\n",
       " 'লেখা',\n",
       " 'অপেক্ষায়',\n",
       " '২',\n",
       " 'ওভার',\n",
       " 'অস্ট্রেলিয়া',\n",
       " 'দরকা',\n",
       " '২৯',\n",
       " 'রান',\n",
       " ',',\n",
       " 'গ্',\n",
       " 'ম্যাক্সওয়েল',\n",
       " '১৫।',\n",
       " 'দল',\n",
       " 'পারল',\n",
       " '‘ব্যর্থ’',\n",
       " 'ম্যাক্সওয়েল',\n",
       " '১৪৫',\n",
       " 'রানে',\n",
       " 'অপরাজিত',\n",
       " 'থেক',\n",
       " 'তৃপ্ত',\n",
       " 'থাক',\n",
       " 'হলো',\n",
       " 'ম্যাক্সওয়েল',\n",
       " 'তবে',\n",
       " 'টি-টোয়েন্টি',\n",
       " 'দলীয়',\n",
       " 'সর্বোচ্চ',\n",
       " '২৬৩',\n",
       " 'রান',\n",
       " 'রেকর্ড',\n",
       " 'গড়ল',\n",
       " 'অস্ট্রেলিয়া',\n",
       " ',',\n",
       " 'শ্রীলঙ্কা',\n",
       " 'বিপক্ষ',\n",
       " 'সিরিজ',\n",
       " 'প্রথম',\n",
       " 'টি-টোয়েন্',\n",
       " 'ম্যাচটি',\n",
       " 'জিতে',\n",
       " 'গেল',\n",
       " '৮৫',\n",
       " 'রান',\n",
       " 'ক্রিকেট',\n",
       " 'তিন',\n",
       " 'সংস্করণ',\n",
       " 'দলীয়',\n",
       " 'সর্বোচ্চ',\n",
       " 'রান',\n",
       " 'রেকর্ড',\n",
       " 'ছিল',\n",
       " 'শ্রীলঙ্কা',\n",
       " 'ইংল্যান্ড',\n",
       " 'কাছে',\n",
       " 'ওয়ানড',\n",
       " 'রেকর্ড',\n",
       " 'গত',\n",
       " 'সপ্তাহ',\n",
       " 'হাতছাড়া',\n",
       " 'হয়েছ',\n",
       " 'এক',\n",
       " 'সপ্তাহ',\n",
       " 'পরই',\n",
       " 'টি-টোয়েন্ট',\n",
       " 'রেকর্ডটি',\n",
       " 'হাতছাড়া',\n",
       " 'হলো',\n",
       " ',',\n",
       " 'সেটি',\n",
       " 'নিজে',\n",
       " 'মাটি',\n",
       " '২০০৭',\n",
       " 'সালে',\n",
       " 'কেনিয়া',\n",
       " 'বিপক্ষ',\n",
       " '২৬০',\n",
       " 'রান',\n",
       " 'করে',\n",
       " 'শ্রীলঙ্কা',\n",
       " ',',\n",
       " 'এত',\n",
       " 'দিন',\n",
       " 'ওটাই',\n",
       " 'ছিল',\n",
       " 'টি-টোয়েন্টি',\n",
       " 'দলীয়',\n",
       " 'সর্বোচ্চ',\n",
       " 'রান',\n",
       " 'বিশ্ব',\n",
       " 'রেকর্ড',\n",
       " 'নতুন',\n",
       " 'ভূমিকায়',\n",
       " 'মানিয়',\n",
       " 'নিতে',\n",
       " 'একটু',\n",
       " 'সময়',\n",
       " 'নিয়ে',\n",
       " '‘ম্যাড–ম্যাক্স’',\n",
       " 'প্রথম',\n",
       " 'চার',\n",
       " 'মার',\n",
       " 'অষ্টম',\n",
       " 'বল',\n",
       " 'পর্যন্ত',\n",
       " 'অপেক্ষা',\n",
       " 'কিন্তু',\n",
       " 'ওই',\n",
       " 'চার',\n",
       " 'দিয়ে',\n",
       " 'যে',\n",
       " 'ঝড়',\n",
       " 'শুরু',\n",
       " ',',\n",
       " 'সেটি',\n",
       " 'ইনিংস',\n",
       " 'শেষ',\n",
       " 'ওভার',\n",
       " 'আগে',\n",
       " 'আর',\n",
       " 'থামেনি',\n",
       " '১৪টি',\n",
       " 'চার',\n",
       " 'ও',\n",
       " '৯টি',\n",
       " 'ছক্কায়',\n",
       " '৬৫',\n",
       " 'বলে',\n",
       " '১৪৫',\n",
       " 'রান',\n",
       " 'করেছেন',\n",
       " 'ম্যাক্সওয়েল',\n",
       " 'একসময়',\n",
       " 'তো',\n",
       " 'টি-টোয়েন্টি',\n",
       " 'ব্যক্তিগত',\n",
       " 'সর্বোচ্চ',\n",
       " 'অস্ট্রেলিয়া',\n",
       " 'অ্যারন',\n",
       " 'ফিঞ্চ',\n",
       " '১৫৬',\n",
       " 'রান',\n",
       " 'রেকর্ডক',\n",
       " 'হুমক',\n",
       " 'মুখে',\n",
       " 'ফেলে',\n",
       " 'দিয়ে',\n",
       " 'কিন্তু',\n",
       " 'শেষ',\n",
       " 'দুই',\n",
       " 'ওভার',\n",
       " 'মাত্',\n",
       " '৩',\n",
       " 'বল',\n",
       " 'খেলা',\n",
       " 'সুযোগ',\n",
       " 'পেয়ে',\n",
       " '৩',\n",
       " 'রান',\n",
       " 'করায়',\n",
       " 'সেটি',\n",
       " 'আর',\n",
       " 'সম্ভব',\n",
       " 'হয়নি']"
      ]
     },
     "execution_count": 69,
     "metadata": {},
     "output_type": "execute_result"
    }
   ],
   "source": [
    "#new_tokens = []\n",
    "#for token in tokens:\n",
    "#    if len(token) > 4:\n",
    "#        new_word = stem(token)\n",
    "#        if new_word:\n",
    "#            new_tokens.append(new_word)\n",
    "#            #print(token)\n",
    "#            #print(new_word)\n",
    "#            #print(\"-------------\")\n",
    "#    else:\n",
    "#       new_tokens.append(token)\n",
    "\n",
    "[stem(t) if len(t)>4 else t for t in tokens]"
   ]
  },
  {
   "cell_type": "code",
   "execution_count": 14,
   "metadata": {
    "collapsed": false,
    "scrolled": true
   },
   "outputs": [],
   "source": [
    "#nltk.FreqDist(new_tokens)"
   ]
  },
  {
   "cell_type": "code",
   "execution_count": 43,
   "metadata": {
    "collapsed": false
   },
   "outputs": [],
   "source": [
    "pattern = r'''(?x)\n",
    "    ([A-Z]\\.)+\n",
    "    | \\w+(-\\w+)*\n",
    "    | \\$?\\d+(\\.\\d+)?%?\n",
    "    | \\.\\.\\.\n",
    "    | [][.,;\"'?():-_`]\n",
    "'''"
   ]
  },
  {
   "cell_type": "code",
   "execution_count": 44,
   "metadata": {
    "collapsed": false
   },
   "outputs": [
    {
     "data": {
      "text/plain": [
       "[('', '', ''),\n",
       " ('A.', '', ''),\n",
       " ('', '-print', ''),\n",
       " ('', '', ''),\n",
       " ('', '', '.40'),\n",
       " ('', '', '')]"
      ]
     },
     "execution_count": 44,
     "metadata": {},
     "output_type": "execute_result"
    }
   ],
   "source": [
    "en_text = 'That U.S.A. poster-print costs $12.40...'\n",
    "nltk.regexp_tokenize(en_text, pattern)"
   ]
  },
  {
   "cell_type": "code",
   "execution_count": null,
   "metadata": {
    "collapsed": true
   },
   "outputs": [],
   "source": []
  }
 ],
 "metadata": {
  "anaconda-cloud": {},
  "kernelspec": {
   "display_name": "Python [Root]",
   "language": "python",
   "name": "Python [Root]"
  },
  "language_info": {
   "codemirror_mode": {
    "name": "ipython",
    "version": 3
   },
   "file_extension": ".py",
   "mimetype": "text/x-python",
   "name": "python",
   "nbconvert_exporter": "python",
   "pygments_lexer": "ipython3",
   "version": "3.5.2"
  }
 },
 "nbformat": 4,
 "nbformat_minor": 0
}
