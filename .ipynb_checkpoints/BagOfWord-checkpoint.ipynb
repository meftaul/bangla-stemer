{
 "cells": [
  {
   "cell_type": "code",
   "execution_count": 2,
   "metadata": {
    "collapsed": true
   },
   "outputs": [],
   "source": [
    "import pandas as pd\n",
    "from bs4 import BeautifulSoup"
   ]
  },
  {
   "cell_type": "code",
   "execution_count": 4,
   "metadata": {
    "collapsed": true
   },
   "outputs": [],
   "source": [
    "bn_text = [\"অস্ট্রেলিয়া ইনিংসের ১৮ ওভার শেষ হতেই অপেক্ষা শুরু হয়ে গেল। টি-টোয়েন্টিতে দলীয় ও ব্যক্তিগত দুটি রেকর্ডই যে তখন নতুন করে লেখার অপেক্ষায়। ২ ওভারে অস্ট্রেলিয়ার দরকার ২৯ রান, গ্লেন ম্যাক্সওয়েলের ১৫। দল পারলেও ‘ব্যর্থ’ ম্যাক্সওয়েল। ১৪৫ রানে অপরাজিত থেকেই তৃপ্ত থাকতে হলো ম্যাক্সওয়েলকে। তবে টি-টোয়েন্টিতে দলীয় সর্বোচ্চ ২৬৩ রানের রেকর্ড গড়ল অস্ট্রেলিয়া, শ্রীলঙ্কার বিপক্ষে সিরিজের প্রথম টি-টোয়েন্টি ম্যাচটিও জিতে গেল ৮৫ রানে।\",\n",
    "           \"ক্রিকেটের তিন সংস্করণেই দলীয় সর্বোচ্চ রানের রেকর্ডটি ছিল শ্রীলঙ্কার। ইংল্যান্ডের কাছে ওয়ানডের রেকর্ডটি গত সপ্তাহেই হাতছাড়া হয়েছে। এক সপ্তাহ পরই টি-টোয়েন্টির রেকর্ডটিও হাতছাড়া হলো, সেটিও নিজেদের মাটিতে। ২০০৭ সালে কেনিয়ার বিপক্ষে ২৬০ রান করেছিল শ্রীলঙ্কা, এত দিন ওটাই ছিল টি-টোয়েন্টিতে দলীয় সর্বোচ্চ রানের বিশ্ব রেকর্ড।\",\n",
    "           \"নতুন ভূমিকায় মানিয়ে নিতে একটু সময় নিয়েছিলেন ‘ম্যাড–ম্যাক্স’। প্রথম চার মারতে অষ্টম বল পর্যন্ত অপেক্ষা। কিন্তু ওই চার দিয়ে যে ঝড় শুরু, সেটি ইনিংসের শেষ ওভারের আগে আর থামেনি। ১৪টি চার ও ৯টি ছক্কায় ৬৫ বলে ১৪৫ রান করেছেন ম্যাক্সওয়েল। একসময় তো টি-টোয়েন্টিতে ব্যক্তিগত সর্বোচ্চ অস্ট্রেলিয়ার অ্যারন ফিঞ্চের ১৫৬ রানের রেকর্ডকেও হুমকির মুখে ফেলে দিয়েছিলেন। কিন্তু শেষ দুই ওভারে মাত্র ৩ বল খেলার সুযোগ পেয়ে ৩ রান করায় সেটি আর সম্ভব হয়নি।\"]"
   ]
  },
  {
   "cell_type": "code",
   "execution_count": 5,
   "metadata": {
    "collapsed": false
   },
   "outputs": [
    {
     "name": "stdout",
     "output_type": "stream",
     "text": [
      "অস্ট্রেলিয়া ইনিংসের ১৮ ওভার শেষ হতেই অপেক্ষা শুরু হয়ে গেল। টি-টোয়েন্টিতে দলীয় ও ব্যক্তিগত দুটি রেকর্ডই যে তখন নতুন করে লেখার অপেক্ষায়। ২ ওভারে অস্ট্রেলিয়ার দরকার ২৯ রান, গ্লেন ম্যাক্সওয়েলের ১৫। দল পারলেও ‘ব্যর্থ’ ম্যাক্সওয়েল। ১৪৫ রানে অপরাজিত থেকেই তৃপ্ত থাকতে হলো ম্যাক্সওয়েলকে। তবে টি-টোয়েন্টিতে দলীয় সর্বোচ্চ ২৬৩ রানের রেকর্ড গড়ল অস্ট্রেলিয়া, শ্রীলঙ্কার বিপক্ষে সিরিজের প্রথম টি-টোয়েন্টি ম্যাচটিও জিতে গেল ৮৫ রানে।\n"
     ]
    }
   ],
   "source": [
    "print(bn_text[0])"
   ]
  },
  {
   "cell_type": "code",
   "execution_count": 6,
   "metadata": {
    "collapsed": false
   },
   "outputs": [
    {
     "name": "stderr",
     "output_type": "stream",
     "text": [
      "/home/meftaul/anaconda3/lib/python3.5/site-packages/bs4/__init__.py:166: UserWarning: No parser was explicitly specified, so I'm using the best available HTML parser for this system (\"lxml\"). This usually isn't a problem, but if you run this code on another system, or in a different virtual environment, it may use a different parser and behave differently.\n",
      "\n",
      "To get rid of this warning, change this:\n",
      "\n",
      " BeautifulSoup([your markup])\n",
      "\n",
      "to this:\n",
      "\n",
      " BeautifulSoup([your markup], \"lxml\")\n",
      "\n",
      "  markup_type=markup_type))\n"
     ]
    }
   ],
   "source": [
    "example1 = BeautifulSoup(bn_text[0])"
   ]
  },
  {
   "cell_type": "code",
   "execution_count": 7,
   "metadata": {
    "collapsed": false
   },
   "outputs": [
    {
     "data": {
      "text/plain": [
       "'অস্ট্রেলিয়া ইনিংসের ১৮ ওভার শেষ হতেই অপেক্ষা শুরু হয়ে গেল। টি-টোয়েন্টিতে দলীয় ও ব্যক্তিগত দুটি রেকর্ডই যে তখন নতুন করে লেখার অপেক্ষায়। ২ ওভারে অস্ট্রেলিয়ার দরকার ২৯ রান, গ্লেন ম্যাক্সওয়েলের ১৫। দল পারলেও ‘ব্যর্থ’ ম্যাক্সওয়েল। ১৪৫ রানে অপরাজিত থেকেই তৃপ্ত থাকতে হলো ম্যাক্সওয়েলকে। তবে টি-টোয়েন্টিতে দলীয় সর্বোচ্চ ২৬৩ রানের রেকর্ড গড়ল অস্ট্রেলিয়া, শ্রীলঙ্কার বিপক্ষে সিরিজের প্রথম টি-টোয়েন্টি ম্যাচটিও জিতে গেল ৮৫ রানে।'"
      ]
     },
     "execution_count": 7,
     "metadata": {},
     "output_type": "execute_result"
    }
   ],
   "source": [
    "example1.get_text()"
   ]
  },
  {
   "cell_type": "code",
   "execution_count": 43,
   "metadata": {
    "collapsed": false
   },
   "outputs": [],
   "source": [
    "import re\n",
    "letters_only = re.sub(\"^[u'\\0980'-u'\\09EF'^u'\\09F7']\", \" \", example1.get_text())"
   ]
  },
  {
   "cell_type": "code",
   "execution_count": 44,
   "metadata": {
    "collapsed": false
   },
   "outputs": [
    {
     "name": "stdout",
     "output_type": "stream",
     "text": [
      "অস্ট্রেলিয়া ইনিংসের ১৮ ওভার শেষ হতেই অপেক্ষা শুরু হয়ে গেল। টি-টোয়েন্টিতে দলীয় ও ব্যক্তিগত দুটি রেকর্ডই যে তখন নতুন করে লেখার অপেক্ষায়। ২ ওভারে অস্ট্রেলিয়ার দরকার ২৯ রান, গ্লেন ম্যাক্সওয়েলের ১৫। দল পারলেও ‘ব্যর্থ’ ম্যাক্সওয়েল। ১৪৫ রানে অপরাজিত থেকেই তৃপ্ত থাকতে হলো ম্যাক্সওয়েলকে। তবে টি-টোয়েন্টিতে দলীয় সর্বোচ্চ ২৬৩ রানের রেকর্ড গড়ল অস্ট্রেলিয়া, শ্রীলঙ্কার বিপক্ষে সিরিজের প্রথম টি-টোয়েন্টি ম্যাচটিও জিতে গেল ৮৫ রানে।\n"
     ]
    }
   ],
   "source": [
    "print(letters_only)"
   ]
  },
  {
   "cell_type": "code",
   "execution_count": 24,
   "metadata": {
    "collapsed": true
   },
   "outputs": [],
   "source": [
    "lower_case = letters_only.lower()        # Convert to lower case\n",
    "words = lower_case.split()   "
   ]
  },
  {
   "cell_type": "code",
   "execution_count": 25,
   "metadata": {
    "collapsed": false
   },
   "outputs": [
    {
     "data": {
      "text/plain": [
       "['অস্ট্রেলিয়া',\n",
       " 'ইনিংসের',\n",
       " '১৮',\n",
       " 'ওভার',\n",
       " 'শেষ',\n",
       " 'হতেই',\n",
       " 'অপেক্ষা',\n",
       " 'শুরু',\n",
       " 'হয়ে',\n",
       " 'গেল।',\n",
       " 'টি',\n",
       " 'টোয়েন্টিতে',\n",
       " 'দলীয়',\n",
       " 'ও',\n",
       " 'ব্যক্তিগত',\n",
       " 'দুটি',\n",
       " 'রেকর্ডই',\n",
       " 'যে',\n",
       " 'তখন',\n",
       " 'নতুন',\n",
       " 'করে',\n",
       " 'লেখার',\n",
       " 'অপেক্ষায়।',\n",
       " '২',\n",
       " 'ওভারে',\n",
       " 'অস্ট্রেলিয়ার',\n",
       " 'দরকার',\n",
       " '২৯',\n",
       " 'রান',\n",
       " 'গ্লেন',\n",
       " 'ম্যাক্সওয়েলের',\n",
       " '১৫।',\n",
       " 'দল',\n",
       " 'পারলেও',\n",
       " '‘ব্যর্থ’',\n",
       " 'ম্যাক্সওয়েল।',\n",
       " '১৪৫',\n",
       " 'রানে',\n",
       " 'অপরাজিত',\n",
       " 'থেকেই',\n",
       " 'তৃপ্ত',\n",
       " 'থাকতে',\n",
       " 'হলো',\n",
       " 'ম্যাক্সওয়েলকে।',\n",
       " 'তবে',\n",
       " 'টি',\n",
       " 'টোয়েন্টিতে',\n",
       " 'দলীয়',\n",
       " 'সর্বোচ্চ',\n",
       " '২৬৩',\n",
       " 'রানের',\n",
       " 'রেকর্ড',\n",
       " 'গড়ল',\n",
       " 'অস্ট্রেলিয়া',\n",
       " 'শ্রীলঙ্কার',\n",
       " 'বিপক্ষে',\n",
       " 'সিরিজের',\n",
       " 'প্রথম',\n",
       " 'টি',\n",
       " 'টোয়েন্টি',\n",
       " 'ম্যাচটিও',\n",
       " 'জিতে',\n",
       " 'গেল',\n",
       " '৮৫',\n",
       " 'রানে।']"
      ]
     },
     "execution_count": 25,
     "metadata": {},
     "output_type": "execute_result"
    }
   ],
   "source": [
    "words"
   ]
  },
  {
   "cell_type": "code",
   "execution_count": 29,
   "metadata": {
    "collapsed": false
   },
   "outputs": [
    {
     "name": "stdout",
     "output_type": "stream",
     "text": [
      "['অস্ট্রেলিয়া', 'ইনিংসের', '১৮', 'ওভার', 'শেষ', 'হতেই', 'অপেক্ষা', 'শুরু', 'হয়ে', 'গেল।', 'টি', 'টোয়েন্টিতে', 'দলীয়', 'ও', 'ব্যক্তিগত', 'দুটি', 'রেকর্ডই', 'যে', 'তখন', 'নতুন', 'করে', 'লেখার', 'অপেক্ষায়।', '২', 'ওভারে', 'অস্ট্রেলিয়ার', 'দরকার', '২৯', 'রান', 'গ্লেন', 'ম্যাক্সওয়েলের', '১৫।', 'দল', 'পারলেও', '‘ব্যর্থ’', 'ম্যাক্সওয়েল।', '১৪৫', 'রানে', 'অপরাজিত', 'থেকেই', 'তৃপ্ত', 'থাকতে', 'হলো', 'ম্যাক্সওয়েলকে।', 'তবে', 'টি', 'টোয়েন্টিতে', 'দলীয়', 'সর্বোচ্চ', '২৬৩', 'রানের', 'রেকর্ড', 'গড়ল', 'অস্ট্রেলিয়া', 'শ্রীলঙ্কার', 'বিপক্ষে', 'সিরিজের', 'প্রথম', 'টি', 'টোয়েন্টি', 'ম্যাচটিও', 'জিতে', 'গেল', '৮৫', 'রানে।']\n"
     ]
    }
   ],
   "source": [
    "from nltk.corpus import stopwords\n",
    "words = [w for w in words if not w in stopwords.words(\"english\")]\n",
    "print(words)"
   ]
  },
  {
   "cell_type": "code",
   "execution_count": 35,
   "metadata": {
    "collapsed": true
   },
   "outputs": [],
   "source": [
    "def text_to_words( raw_text ):\n",
    "    # Function to convert a raw review to a string of words\n",
    "    # The input is a single string (a raw movie review), and \n",
    "    # the output is a single string (a preprocessed movie review)\n",
    "    #\n",
    "    # 1. Remove HTML\n",
    "    review_text = BeautifulSoup(raw_text).get_text() \n",
    "    #\n",
    "    # 2. Remove non-letters        \n",
    "    #letters_only = re.sub(\"[^a-zA-Z]\", \" \", review_text) \n",
    "    letters_only = re.sub(\"[u'\\0980'-u'\\09EF']\", \" \", review_text) \n",
    "    #\n",
    "    # 3. Convert to lower case, split into individual words\n",
    "    words = letters_only.lower().split()                             \n",
    "    #\n",
    "    # 4. In Python, searching a set is much faster than searching\n",
    "    #   a list, so convert the stop words to a set\n",
    "    stops = set(stopwords.words(\"english\"))                  \n",
    "    # \n",
    "    # 5. Remove stop words\n",
    "    meaningful_words = [w for w in words if not w in stops]   \n",
    "    #\n",
    "    # 6. Join the words back into one string separated by space, \n",
    "    # and return the result.\n",
    "    return( \" \".join( meaningful_words )) "
   ]
  },
  {
   "cell_type": "code",
   "execution_count": 45,
   "metadata": {
    "collapsed": false
   },
   "outputs": [
    {
     "name": "stderr",
     "output_type": "stream",
     "text": [
      "/home/meftaul/anaconda3/lib/python3.5/site-packages/bs4/__init__.py:166: UserWarning: No parser was explicitly specified, so I'm using the best available HTML parser for this system (\"lxml\"). This usually isn't a problem, but if you run this code on another system, or in a different virtual environment, it may use a different parser and behave differently.\n",
      "\n",
      "To get rid of this warning, change this:\n",
      "\n",
      " BeautifulSoup([your markup])\n",
      "\n",
      "to this:\n",
      "\n",
      " BeautifulSoup([your markup], \"lxml\")\n",
      "\n",
      "  markup_type=markup_type))\n"
     ]
    }
   ],
   "source": [
    "clean_bn_text = text_to_words(bn_text[0])"
   ]
  },
  {
   "cell_type": "code",
   "execution_count": 47,
   "metadata": {
    "collapsed": false
   },
   "outputs": [
    {
     "name": "stderr",
     "output_type": "stream",
     "text": [
      "/home/meftaul/anaconda3/lib/python3.5/site-packages/bs4/__init__.py:166: UserWarning: No parser was explicitly specified, so I'm using the best available HTML parser for this system (\"lxml\"). This usually isn't a problem, but if you run this code on another system, or in a different virtual environment, it may use a different parser and behave differently.\n",
      "\n",
      "To get rid of this warning, change this:\n",
      "\n",
      " BeautifulSoup([your markup])\n",
      "\n",
      "to this:\n",
      "\n",
      " BeautifulSoup([your markup], \"lxml\")\n",
      "\n",
      "  markup_type=markup_type))\n"
     ]
    }
   ],
   "source": [
    "clean_train_texts = []\n",
    "for i in range(0, len(bn_text)):\n",
    "    clean_train_texts.append(text_to_words(bn_text[i]))"
   ]
  },
  {
   "cell_type": "code",
   "execution_count": 48,
   "metadata": {
    "collapsed": false
   },
   "outputs": [
    {
     "data": {
      "text/plain": [
       "['অস্ট্রেলিয়া ইনিংসের ১৮ ওভার শেষ হতেই অপেক্ষা শুরু হয়ে গেল। টি টোয়েন্টিতে দলীয় ও ব্যক্তিগত দুটি রেকর্ডই যে তখন নতুন করে লেখার অপেক্ষায়। ২ ওভারে অস্ট্রেলিয়ার দরকার ২৯ রান গ্লেন ম্যাক্সওয়েলের ১৫। দল পারলেও ‘ব্যর্থ’ ম্যাক্সওয়েল। ১৪৫ রানে অপরাজিত থেকেই তৃপ্ত থাকতে হলো ম্যাক্সওয়েলকে। তবে টি টোয়েন্টিতে দলীয় সর্বোচ্চ ২৬৩ রানের রেকর্ড গড়ল অস্ট্রেলিয়া শ্রীলঙ্কার বিপক্ষে সিরিজের প্রথম টি টোয়েন্টি ম্যাচটিও জিতে গেল ৮৫ রানে।',\n",
       " 'ক্রিকেটের তিন সংস্করণেই দলীয় সর্বোচ্চ রানের রেকর্ডটি ছিল শ্রীলঙ্কার। ইংল্যান্ডের কাছে ওয়ানডের রেকর্ডটি গত সপ্তাহেই হাতছাড়া হয়েছে। এক সপ্তাহ পরই টি টোয়েন্টির রেকর্ডটিও হাতছাড়া হলো সেটিও নিজেদের মাটিতে। ২০০৭ সালে কেনিয়ার বিপক্ষে ২৬০ রান করেছিল শ্রীলঙ্কা এত দিন ওটাই ছিল টি টোয়েন্টিতে দলীয় সর্বোচ্চ রানের বিশ্ব রেকর্ড।',\n",
       " 'নতুন ভূমিকায় মানিয়ে নিতে একটু সময় নিয়েছিলেন ‘ম্যাড–ম্যাক্স’। প্রথম চার মারতে অষ্টম বল পর্যন্ত অপেক্ষা। কিন্তু ওই চার দিয়ে যে ঝড় শুরু সেটি ইনিংসের শেষ ওভারের আগে আর থামেনি। ১৪টি চার ও ৯টি ছক্কায় ৬৫ বলে ১৪৫ রান করেছেন ম্যাক্সওয়েল। একসময় তো টি টোয়েন্টিতে ব্যক্তিগত সর্বোচ্চ অস্ট্রেলিয়ার অ্যারন ফিঞ্চের ১৫৬ রানের রেকর্ডকেও হুমকির মুখে ফেলে দিয়েছিলেন। কিন্তু শেষ দুই ওভারে মাত্র ৩ বল খেলার সুযোগ পেয়ে ৩ রান করায় সেটি আর সম্ভব হয়নি।']"
      ]
     },
     "execution_count": 48,
     "metadata": {},
     "output_type": "execute_result"
    }
   ],
   "source": [
    "clean_train_texts"
   ]
  },
  {
   "cell_type": "code",
   "execution_count": 49,
   "metadata": {
    "collapsed": true
   },
   "outputs": [],
   "source": [
    "from sklearn.feature_extraction.text import CountVectorizer"
   ]
  },
  {
   "cell_type": "code",
   "execution_count": 50,
   "metadata": {
    "collapsed": true
   },
   "outputs": [],
   "source": [
    "vectorizer = CountVectorizer(analyzer = \"word\",   \\\n",
    "                             tokenizer = None,    \\\n",
    "                             preprocessor = None, \\\n",
    "                             stop_words = None,   \\\n",
    "                             max_features = 5000) "
   ]
  },
  {
   "cell_type": "code",
   "execution_count": 66,
   "metadata": {
    "collapsed": true
   },
   "outputs": [],
   "source": [
    "train_data_features = vectorizer.fit_transform(clean_train_texts)"
   ]
  },
  {
   "cell_type": "code",
   "execution_count": 67,
   "metadata": {
    "collapsed": true
   },
   "outputs": [],
   "source": [
    "train_data_features = train_data_features.toarray()"
   ]
  },
  {
   "cell_type": "code",
   "execution_count": 68,
   "metadata": {
    "collapsed": false
   },
   "outputs": [
    {
     "data": {
      "text/plain": [
       "(3, 70)"
      ]
     },
     "execution_count": 68,
     "metadata": {},
     "output_type": "execute_result"
    }
   ],
   "source": [
    "train_data_features.shape"
   ]
  },
  {
   "cell_type": "code",
   "execution_count": 70,
   "metadata": {
    "collapsed": false
   },
   "outputs": [
    {
     "name": "stdout",
     "output_type": "stream",
     "text": [
      "['অপ', 'অপর', 'অষ', 'অস', 'আগ', 'আর', 'ইন', 'এক', 'একট', 'একসময়', 'এত', 'ওই', 'ওট', 'ওভ', 'ওয়', 'কত', 'কর', 'করণ', 'গত', 'গড়ল', 'চট', 'ছক', 'ঝড়', 'টম', 'ডই', 'ডক', 'ডট', 'তখন', 'তছ', 'তব', 'দরক', 'দল', 'নড', 'নত', 'পক', 'পর', 'পরই', 'বল', 'ভব', 'মক', 'যক', 'যন', 'যর', 'রত', 'রথম', 'রন', 'রল', 'লক', 'লঙ', 'সওয়', 'সপ', 'সম', 'সময়', 'সর', 'হত', 'হল', 'হয়', 'হয়ন', '১৪ট', '১৪৫', '১৫', '১৫৬', '১৮', '২০০৭', '২৬০', '২৬৩', '২৯', '৬৫', '৮৫', '৯ট']\n"
     ]
    }
   ],
   "source": [
    "vocab = vectorizer.get_feature_names()\n",
    "print(vocab)"
   ]
  },
  {
   "cell_type": "code",
   "execution_count": 72,
   "metadata": {
    "collapsed": false,
    "scrolled": true
   },
   "outputs": [
    {
     "name": "stdout",
     "output_type": "stream",
     "text": [
      "3 অপ\n",
      "1 অপর\n",
      "1 অষ\n",
      "4 অস\n",
      "1 আগ\n",
      "2 আর\n",
      "2 ইন\n",
      "1 এক\n",
      "1 একট\n",
      "1 একসময়\n",
      "1 এত\n",
      "1 ওই\n",
      "1 ওট\n",
      "4 ওভ\n",
      "1 ওয়\n",
      "1 কত\n",
      "11 কর\n",
      "1 করণ\n",
      "3 গত\n",
      "1 গড়ল\n",
      "1 চট\n",
      "1 ছক\n",
      "1 ঝড়\n",
      "1 টম\n",
      "1 ডই\n",
      "1 ডক\n",
      "3 ডট\n",
      "1 তখন\n",
      "2 তছ\n",
      "1 তব\n",
      "1 দরক\n",
      "5 দল\n",
      "1 নড\n",
      "2 নত\n",
      "2 পক\n",
      "1 পর\n",
      "1 পরই\n",
      "3 বল\n",
      "1 ভব\n",
      "1 মক\n",
      "2 যক\n",
      "1 যন\n",
      "1 যর\n",
      "1 রত\n",
      "2 রথম\n",
      "1 রন\n",
      "1 রল\n",
      "1 লক\n",
      "3 লঙ\n",
      "4 সওয়\n",
      "2 সপ\n",
      "1 সম\n",
      "1 সময়\n",
      "4 সর\n",
      "1 হত\n",
      "2 হল\n",
      "2 হয়\n",
      "1 হয়ন\n",
      "1 ১৪ট\n",
      "2 ১৪৫\n",
      "1 ১৫\n",
      "1 ১৫৬\n",
      "1 ১৮\n",
      "1 ২০০৭\n",
      "1 ২৬০\n",
      "1 ২৬৩\n",
      "1 ২৯\n",
      "1 ৬৫\n",
      "1 ৮৫\n",
      "1 ৯ট\n"
     ]
    }
   ],
   "source": [
    "import numpy as np\n",
    "\n",
    "# Sum up the counts of each vocabulary word\n",
    "dist = np.sum(train_data_features, axis=0)\n",
    "\n",
    "# For each, print the vocabulary word and the number of times it \n",
    "# appears in the training set\n",
    "for tag, count in zip(vocab, dist):\n",
    "    print(count, tag)"
   ]
  },
  {
   "cell_type": "markdown",
   "metadata": {},
   "source": [
    "# ================================="
   ]
  },
  {
   "cell_type": "code",
   "execution_count": 73,
   "metadata": {
    "collapsed": true
   },
   "outputs": [],
   "source": [
    "import nltk"
   ]
  },
  {
   "cell_type": "code",
   "execution_count": 74,
   "metadata": {
    "collapsed": true
   },
   "outputs": [],
   "source": [
    "tokens = nltk.word_tokenize(example1.get_text())"
   ]
  },
  {
   "cell_type": "code",
   "execution_count": 77,
   "metadata": {
    "collapsed": false
   },
   "outputs": [],
   "source": [
    "text = nltk.Text(tokens)"
   ]
  },
  {
   "cell_type": "code",
   "execution_count": 86,
   "metadata": {
    "collapsed": false,
    "scrolled": true
   },
   "outputs": [
    {
     "data": {
      "text/plain": [
       "FreqDist({',': 2,\n",
       "          'অপরাজিত': 1,\n",
       "          'অপেক্ষা': 1,\n",
       "          'অপেক্ষায়।': 1,\n",
       "          'অস্ট্রেলিয়া': 2,\n",
       "          'অস্ট্রেলিয়ার': 1,\n",
       "          'ইনিংসের': 1,\n",
       "          'ও': 1,\n",
       "          'ওভার': 1,\n",
       "          'ওভারে': 1,\n",
       "          'করে': 1,\n",
       "          'গেল': 1,\n",
       "          'গেল।': 1,\n",
       "          'গ্লেন': 1,\n",
       "          'গড়ল': 1,\n",
       "          'জিতে': 1,\n",
       "          'টি-টোয়েন্টি': 1,\n",
       "          'টি-টোয়েন্টিতে': 2,\n",
       "          'তখন': 1,\n",
       "          'তবে': 1,\n",
       "          'তৃপ্ত': 1,\n",
       "          'থাকতে': 1,\n",
       "          'থেকেই': 1,\n",
       "          'দরকার': 1,\n",
       "          'দল': 1,\n",
       "          'দলীয়': 2,\n",
       "          'দুটি': 1,\n",
       "          'নতুন': 1,\n",
       "          'পারলেও': 1,\n",
       "          'প্রথম': 1,\n",
       "          'বিপক্ষে': 1,\n",
       "          'ব্যক্তিগত': 1,\n",
       "          'ম্যাক্সওয়েল।': 1,\n",
       "          'ম্যাক্সওয়েলকে।': 1,\n",
       "          'ম্যাক্সওয়েলের': 1,\n",
       "          'ম্যাচটিও': 1,\n",
       "          'যে': 1,\n",
       "          'রান': 1,\n",
       "          'রানে': 1,\n",
       "          'রানে।': 1,\n",
       "          'রানের': 1,\n",
       "          'রেকর্ড': 1,\n",
       "          'রেকর্ডই': 1,\n",
       "          'লেখার': 1,\n",
       "          'শুরু': 1,\n",
       "          'শেষ': 1,\n",
       "          'শ্রীলঙ্কার': 1,\n",
       "          'সর্বোচ্চ': 1,\n",
       "          'সিরিজের': 1,\n",
       "          'হতেই': 1,\n",
       "          'হলো': 1,\n",
       "          'হয়ে': 1,\n",
       "          '১৪৫': 1,\n",
       "          '১৫।': 1,\n",
       "          '১৮': 1,\n",
       "          '২': 1,\n",
       "          '২৬৩': 1,\n",
       "          '২৯': 1,\n",
       "          '৮৫': 1,\n",
       "          '‘ব্যর্থ’': 1})"
      ]
     },
     "execution_count": 86,
     "metadata": {},
     "output_type": "execute_result"
    }
   ],
   "source": [
    "text.vocab()"
   ]
  },
  {
   "cell_type": "code",
   "execution_count": 96,
   "metadata": {
    "collapsed": false
   },
   "outputs": [
    {
     "name": "stdout",
     "output_type": "stream",
     "text": [
      "Displaying 2 of 2 matches:\n",
      "                                  অস্ট্রেলিয়া ইনিংসের ১৮ ওভার শেষ হতেই অপেক্ষা \n",
      "লীয় সর্বোচ্চ ২৬৩ রানের রেকর্ড গড়ল অস্ট্রেলিয়া , শ্রীলঙ্কার বিপক্ষে সিরিজের প্রথ\n"
     ]
    }
   ],
   "source": [
    "text.concordance('অস্ট্রেলিয়া')"
   ]
  },
  {
   "cell_type": "code",
   "execution_count": 105,
   "metadata": {
    "collapsed": false
   },
   "outputs": [
    {
     "name": "stdout",
     "output_type": "stream",
     "text": [
      "টি-টোয়েন্টিতে দলীয়\n"
     ]
    }
   ],
   "source": [
    "text.collocations()"
   ]
  },
  {
   "cell_type": "code",
   "execution_count": 106,
   "metadata": {
    "collapsed": false
   },
   "outputs": [
    {
     "data": {
      "text/plain": [
       "64"
      ]
     },
     "execution_count": 106,
     "metadata": {},
     "output_type": "execute_result"
    }
   ],
   "source": [
    "len(text)"
   ]
  },
  {
   "cell_type": "code",
   "execution_count": null,
   "metadata": {
    "collapsed": true
   },
   "outputs": [],
   "source": []
  },
  {
   "cell_type": "code",
   "execution_count": 108,
   "metadata": {
    "collapsed": false
   },
   "outputs": [],
   "source": [
    "ka = 'কে'.encode('utf8')"
   ]
  },
  {
   "cell_type": "code",
   "execution_count": 109,
   "metadata": {
    "collapsed": false
   },
   "outputs": [
    {
     "data": {
      "text/plain": [
       "b'\\xe0\\xa6\\x95'"
      ]
     },
     "execution_count": 109,
     "metadata": {},
     "output_type": "execute_result"
    }
   ],
   "source": [
    "ka"
   ]
  },
  {
   "cell_type": "code",
   "execution_count": 110,
   "metadata": {
    "collapsed": false
   },
   "outputs": [
    {
     "data": {
      "text/plain": [
       "'ক'"
      ]
     },
     "execution_count": 110,
     "metadata": {},
     "output_type": "execute_result"
    }
   ],
   "source": [
    "ka.decode()"
   ]
  },
  {
   "cell_type": "code",
   "execution_count": null,
   "metadata": {
    "collapsed": true
   },
   "outputs": [],
   "source": []
  }
 ],
 "metadata": {
  "anaconda-cloud": {},
  "kernelspec": {
   "display_name": "Python [Root]",
   "language": "python",
   "name": "Python [Root]"
  },
  "language_info": {
   "codemirror_mode": {
    "name": "ipython",
    "version": 3
   },
   "file_extension": ".py",
   "mimetype": "text/x-python",
   "name": "python",
   "nbconvert_exporter": "python",
   "pygments_lexer": "ipython3",
   "version": "3.5.2"
  }
 },
 "nbformat": 4,
 "nbformat_minor": 0
}
