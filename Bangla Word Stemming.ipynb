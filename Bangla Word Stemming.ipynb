{
 "cells": [
  {
   "cell_type": "code",
   "execution_count": 1,
   "metadata": {
    "collapsed": false
   },
   "outputs": [],
   "source": [
    "import re\n",
    "import nltk\n",
    "from bs4 import BeautifulSoup\n",
    "\n",
    "from urllib.request import urlopen"
   ]
  },
  {
   "cell_type": "markdown",
   "metadata": {},
   "source": [
    "## Initial Cleaning"
   ]
  },
  {
   "cell_type": "code",
   "execution_count": 2,
   "metadata": {
    "collapsed": true
   },
   "outputs": [],
   "source": [
    "def html_tag_cleaner(text):\n",
    "        clean_text = BeautifulSoup(text)\n",
    "        return clean_text.get_text()"
   ]
  },
  {
   "cell_type": "markdown",
   "metadata": {},
   "source": [
    "##  Bangla Word tokenization and stemming"
   ]
  },
  {
   "cell_type": "code",
   "execution_count": 3,
   "metadata": {
    "collapsed": true
   },
   "outputs": [],
   "source": [
    "def stem(word):\n",
    "    regexp = r'^(.*?)(ের|েই|দের|ছিলেন|ির|ীয়|েও|টি|ও|তে|কে|গুলি|গুলো|গুলা|ছিলেন|ছিল|লেন|কের)?$'\n",
    "    stem, suffix = re.findall(regexp, word)[0]\n",
    "    return stem\n",
    "\n",
    "def tokenize_and_stem(text):\n",
    "    tokens = nltk.word_tokenize(text)\n",
    "    filtered_tokens = []\n",
    "    for t in tokens:\n",
    "        if t.endswith('।'):\n",
    "            t = t[:-len('।')]\n",
    "        filtered_tokens.append(t.lower())\n",
    "    stems = [stem(t) if len(t)>4 else t for t in tokens]\n",
    "    \n",
    "    return stems\n",
    "    "
   ]
  },
  {
   "cell_type": "markdown",
   "metadata": {},
   "source": [
    "<br/>\n",
    "<br/><br/><br/>\n",
    "# Getting data\n",
    "\n",
    "\n"
   ]
  },
  {
   "cell_type": "code",
   "execution_count": 4,
   "metadata": {
    "collapsed": false
   },
   "outputs": [],
   "source": [
    "import pandas as pd\n",
    "\n",
    "\n",
    "posts = pd.read_csv('article_posts.csv', index_col=0)"
   ]
  },
  {
   "cell_type": "code",
   "execution_count": 5,
   "metadata": {
    "collapsed": false
   },
   "outputs": [
    {
     "data": {
      "text/html": [
       "<div>\n",
       "<table border=\"1\" class=\"dataframe\">\n",
       "  <thead>\n",
       "    <tr style=\"text-align: right;\">\n",
       "      <th></th>\n",
       "      <th>id</th>\n",
       "      <th>post_by_id</th>\n",
       "      <th>type</th>\n",
       "      <th>status</th>\n",
       "    </tr>\n",
       "  </thead>\n",
       "  <tbody>\n",
       "    <tr>\n",
       "      <th>0</th>\n",
       "      <td>309048</td>\n",
       "      <td>147</td>\n",
       "      <td>article</td>\n",
       "      <td>এতদিন টাকা দিয়ে কল করেছেন এখন কল রিসিভ করে টাক...</td>\n",
       "    </tr>\n",
       "    <tr>\n",
       "      <th>1</th>\n",
       "      <td>309074</td>\n",
       "      <td>30</td>\n",
       "      <td>article</td>\n",
       "      <td>কিছুদিন ধরেই ভাবছিলাম, বই পড়ার জন্য একটা ই-বুক...</td>\n",
       "    </tr>\n",
       "    <tr>\n",
       "      <th>2</th>\n",
       "      <td>309075</td>\n",
       "      <td>31543</td>\n",
       "      <td>article</td>\n",
       "      <td>&lt;img style=\"width: 120px; height: 152px;\" clas...</td>\n",
       "    </tr>\n",
       "    <tr>\n",
       "      <th>3</th>\n",
       "      <td>309093</td>\n",
       "      <td>35355</td>\n",
       "      <td>article</td>\n",
       "      <td>&lt;p style=\"margin:0in;margin-bottom:.0001pt;bac...</td>\n",
       "    </tr>\n",
       "    <tr>\n",
       "      <th>4</th>\n",
       "      <td>309101</td>\n",
       "      <td>31585</td>\n",
       "      <td>article</td>\n",
       "      <td>&amp;nbsp;ফজিলাতুন্নেছাকে না পাওয়ার ব্যাথায় বেদনা ...</td>\n",
       "    </tr>\n",
       "  </tbody>\n",
       "</table>\n",
       "</div>"
      ],
      "text/plain": [
       "       id  post_by_id     type  \\\n",
       "0  309048         147  article   \n",
       "1  309074          30  article   \n",
       "2  309075       31543  article   \n",
       "3  309093       35355  article   \n",
       "4  309101       31585  article   \n",
       "\n",
       "                                              status  \n",
       "0  এতদিন টাকা দিয়ে কল করেছেন এখন কল রিসিভ করে টাক...  \n",
       "1  কিছুদিন ধরেই ভাবছিলাম, বই পড়ার জন্য একটা ই-বুক...  \n",
       "2  <img style=\"width: 120px; height: 152px;\" clas...  \n",
       "3  <p style=\"margin:0in;margin-bottom:.0001pt;bac...  \n",
       "4  &nbsp;ফজিলাতুন্নেছাকে না পাওয়ার ব্যাথায় বেদনা ...  "
      ]
     },
     "execution_count": 5,
     "metadata": {},
     "output_type": "execute_result"
    }
   ],
   "source": [
    "posts.head()"
   ]
  },
  {
   "cell_type": "markdown",
   "metadata": {},
   "source": [
    "<br>\n",
    "## Clean unnecessary tags"
   ]
  },
  {
   "cell_type": "code",
   "execution_count": 6,
   "metadata": {
    "collapsed": false,
    "scrolled": true
   },
   "outputs": [
    {
     "name": "stderr",
     "output_type": "stream",
     "text": [
      "/home/meftaul/anaconda3/lib/python3.5/site-packages/bs4/__init__.py:166: UserWarning: No parser was explicitly specified, so I'm using the best available HTML parser for this system (\"lxml\"). This usually isn't a problem, but if you run this code on another system, or in a different virtual environment, it may use a different parser and behave differently.\n",
      "\n",
      "To get rid of this warning, change this:\n",
      "\n",
      " BeautifulSoup([your markup])\n",
      "\n",
      "to this:\n",
      "\n",
      " BeautifulSoup([your markup], \"lxml\")\n",
      "\n",
      "  markup_type=markup_type))\n",
      "/home/meftaul/anaconda3/lib/python3.5/site-packages/bs4/__init__.py:207: UserWarning: \"b'http://www.priyo.com/2014/03/30/61375.html'\" looks like a URL. Beautiful Soup is not an HTTP client. You should probably use an HTTP client to get the document behind the URL, and feed that document to Beautiful Soup.\n",
      "  '\"%s\" looks like a URL. Beautiful Soup is not an HTTP client. You should probably use an HTTP client to get the document behind the URL, and feed that document to Beautiful Soup.' % markup)\n",
      "/home/meftaul/anaconda3/lib/python3.5/site-packages/bs4/__init__.py:207: UserWarning: \"b'http://www.newagebd.com/detail.php?date=2014-03-30&amp;nid=88251#.Uzf_ASgQ_IU'\" looks like a URL. Beautiful Soup is not an HTTP client. You should probably use an HTTP client to get the document behind the URL, and feed that document to Beautiful Soup.\n",
      "  '\"%s\" looks like a URL. Beautiful Soup is not an HTTP client. You should probably use an HTTP client to get the document behind the URL, and feed that document to Beautiful Soup.' % markup)\n",
      "/home/meftaul/anaconda3/lib/python3.5/site-packages/bs4/__init__.py:207: UserWarning: \"b'http://www.priyo.com/2014/03/31/61799.html'\" looks like a URL. Beautiful Soup is not an HTTP client. You should probably use an HTTP client to get the document behind the URL, and feed that document to Beautiful Soup.\n",
      "  '\"%s\" looks like a URL. Beautiful Soup is not an HTTP client. You should probably use an HTTP client to get the document behind the URL, and feed that document to Beautiful Soup.' % markup)\n"
     ]
    }
   ],
   "source": [
    "posts['cleaned_status'] = posts['status'].apply(html_tag_cleaner)"
   ]
  },
  {
   "cell_type": "code",
   "execution_count": 7,
   "metadata": {
    "collapsed": false
   },
   "outputs": [
    {
     "data": {
      "text/html": [
       "<div>\n",
       "<table border=\"1\" class=\"dataframe\">\n",
       "  <thead>\n",
       "    <tr style=\"text-align: right;\">\n",
       "      <th></th>\n",
       "      <th>id</th>\n",
       "      <th>post_by_id</th>\n",
       "      <th>type</th>\n",
       "      <th>status</th>\n",
       "      <th>cleaned_status</th>\n",
       "    </tr>\n",
       "  </thead>\n",
       "  <tbody>\n",
       "    <tr>\n",
       "      <th>1995</th>\n",
       "      <td>410791</td>\n",
       "      <td>41642</td>\n",
       "      <td>article</td>\n",
       "      <td>&lt;br&gt; » যারা নিয়মিত সকালের নাশতায় ডিম&lt;br&gt; খাও...</td>\n",
       "      <td>» যারা নিয়মিত সকালের নাশতায় ডিম খাওয়ার অভ্...</td>\n",
       "    </tr>\n",
       "    <tr>\n",
       "      <th>1996</th>\n",
       "      <td>410874</td>\n",
       "      <td>29373</td>\n",
       "      <td>article</td>\n",
       "      <td>ভাববেন না এখানে সবাই আপনার মত একই উদ্দেশ্য আসা...</td>\n",
       "      <td>ভাববেন না এখানে সবাই আপনার মত একই উদ্দেশ্য আসা...</td>\n",
       "    </tr>\n",
       "    <tr>\n",
       "      <th>1997</th>\n",
       "      <td>411096</td>\n",
       "      <td>2232</td>\n",
       "      <td>article</td>\n",
       "      <td>&lt;p style=\"margin: 0px 0px 10px; color: rgb(51,...</td>\n",
       "      <td>হংকংয়ের চীনা তরুণ চাও হোই-লিয়াং মা-বাবার প্রিয়...</td>\n",
       "    </tr>\n",
       "    <tr>\n",
       "      <th>1998</th>\n",
       "      <td>411097</td>\n",
       "      <td>2232</td>\n",
       "      <td>article</td>\n",
       "      <td>&lt;p style=\"margin: 0px 0px 10px; color: rgb(51,...</td>\n",
       "      <td>পরিবারের লোকজন ভেবেছিলেন কোন কালা জাদু ভর করেছ...</td>\n",
       "    </tr>\n",
       "    <tr>\n",
       "      <th>1999</th>\n",
       "      <td>411099</td>\n",
       "      <td>2232</td>\n",
       "      <td>article</td>\n",
       "      <td>&lt;span style=\"color: rgb(51, 51, 51); font-fami...</td>\n",
       "      <td>পবিত্র হজ মহান আল্লাহর এক বড় হুকুম। এটি ইসলামে...</td>\n",
       "    </tr>\n",
       "  </tbody>\n",
       "</table>\n",
       "</div>"
      ],
      "text/plain": [
       "          id  post_by_id     type  \\\n",
       "1995  410791       41642  article   \n",
       "1996  410874       29373  article   \n",
       "1997  411096        2232  article   \n",
       "1998  411097        2232  article   \n",
       "1999  411099        2232  article   \n",
       "\n",
       "                                                 status  \\\n",
       "1995  <br> » যারা নিয়মিত সকালের নাশতায় ডিম<br> খাও...   \n",
       "1996  ভাববেন না এখানে সবাই আপনার মত একই উদ্দেশ্য আসা...   \n",
       "1997  <p style=\"margin: 0px 0px 10px; color: rgb(51,...   \n",
       "1998  <p style=\"margin: 0px 0px 10px; color: rgb(51,...   \n",
       "1999  <span style=\"color: rgb(51, 51, 51); font-fami...   \n",
       "\n",
       "                                         cleaned_status  \n",
       "1995   » যারা নিয়মিত সকালের নাশতায় ডিম খাওয়ার অভ্...  \n",
       "1996  ভাববেন না এখানে সবাই আপনার মত একই উদ্দেশ্য আসা...  \n",
       "1997  হংকংয়ের চীনা তরুণ চাও হোই-লিয়াং মা-বাবার প্রিয়...  \n",
       "1998  পরিবারের লোকজন ভেবেছিলেন কোন কালা জাদু ভর করেছ...  \n",
       "1999  পবিত্র হজ মহান আল্লাহর এক বড় হুকুম। এটি ইসলামে...  "
      ]
     },
     "execution_count": 7,
     "metadata": {},
     "output_type": "execute_result"
    }
   ],
   "source": [
    "posts.tail()"
   ]
  },
  {
   "cell_type": "markdown",
   "metadata": {},
   "source": [
    "<br>\n",
    "## Create tokens & frequency distribution"
   ]
  },
  {
   "cell_type": "code",
   "execution_count": 8,
   "metadata": {
    "collapsed": false
   },
   "outputs": [],
   "source": [
    "posts['tokens'] = [tokenize_and_stem(t) for t in posts.cleaned_status]\n",
    "posts['frequency_dist'] = posts['tokens'].apply(nltk.FreqDist)"
   ]
  },
  {
   "cell_type": "code",
   "execution_count": 9,
   "metadata": {
    "collapsed": false,
    "scrolled": true
   },
   "outputs": [
    {
     "data": {
      "text/html": [
       "<div>\n",
       "<table border=\"1\" class=\"dataframe\">\n",
       "  <thead>\n",
       "    <tr style=\"text-align: right;\">\n",
       "      <th></th>\n",
       "      <th>id</th>\n",
       "      <th>post_by_id</th>\n",
       "      <th>type</th>\n",
       "      <th>status</th>\n",
       "      <th>cleaned_status</th>\n",
       "      <th>tokens</th>\n",
       "      <th>frequency_dist</th>\n",
       "    </tr>\n",
       "  </thead>\n",
       "  <tbody>\n",
       "    <tr>\n",
       "      <th>1995</th>\n",
       "      <td>410791</td>\n",
       "      <td>41642</td>\n",
       "      <td>article</td>\n",
       "      <td>&lt;br&gt; » যারা নিয়মিত সকালের নাশতায় ডিম&lt;br&gt; খাও...</td>\n",
       "      <td>» যারা নিয়মিত সকালের নাশতায় ডিম খাওয়ার অভ্...</td>\n",
       "      <td>[», যারা, নিয়মিত, সকাল, নাশতায়, ডিম, খাওয়ার...</td>\n",
       "      <td>{'পরিস্কার': 1, 'খেয়ে': 1, 'ডিম': 1, '»': 6, ...</td>\n",
       "    </tr>\n",
       "    <tr>\n",
       "      <th>1996</th>\n",
       "      <td>410874</td>\n",
       "      <td>29373</td>\n",
       "      <td>article</td>\n",
       "      <td>ভাববেন না এখানে সবাই আপনার মত একই উদ্দেশ্য আসা...</td>\n",
       "      <td>ভাববেন না এখানে সবাই আপনার মত একই উদ্দেশ্য আসা...</td>\n",
       "      <td>[ভাববেন, না, এখানে, সবাই, আপনার, মত, একই, উদ্দ...</td>\n",
       "      <td>{'করছি': 1, 'সামনে': 1, 'হয়': 2, 'হলে': 1, 'ব...</td>\n",
       "    </tr>\n",
       "    <tr>\n",
       "      <th>1997</th>\n",
       "      <td>411096</td>\n",
       "      <td>2232</td>\n",
       "      <td>article</td>\n",
       "      <td>&lt;p style=\"margin: 0px 0px 10px; color: rgb(51,...</td>\n",
       "      <td>হংকংয়ের চীনা তরুণ চাও হোই-লিয়াং মা-বাবার প্রিয়...</td>\n",
       "      <td>[হংকংয়, চীনা, তরুণ, চাও, হোই-লিয়াং, মা-বাবার, ...</td>\n",
       "      <td>{'বন্ধুরা': 1, 'খুঁজতে।': 1, 'গড়ে': 1, 'এটাই':...</td>\n",
       "    </tr>\n",
       "    <tr>\n",
       "      <th>1998</th>\n",
       "      <td>411097</td>\n",
       "      <td>2232</td>\n",
       "      <td>article</td>\n",
       "      <td>&lt;p style=\"margin: 0px 0px 10px; color: rgb(51,...</td>\n",
       "      <td>পরিবারের লোকজন ভেবেছিলেন কোন কালা জাদু ভর করেছ...</td>\n",
       "      <td>[পরিবার, লোকজন, ভেবে, কোন, কালা, জাদু, ভর, করে...</td>\n",
       "      <td>{'থাকেন': 1, 'ঝুলে': 1, 'রাজীব': 1, 'নিশ্বাসে'...</td>\n",
       "    </tr>\n",
       "    <tr>\n",
       "      <th>1999</th>\n",
       "      <td>411099</td>\n",
       "      <td>2232</td>\n",
       "      <td>article</td>\n",
       "      <td>&lt;span style=\"color: rgb(51, 51, 51); font-fami...</td>\n",
       "      <td>পবিত্র হজ মহান আল্লাহর এক বড় হুকুম। এটি ইসলামে...</td>\n",
       "      <td>[পবিত্র, হজ, মহান, আল্লাহর, এক, বড়, হুকুম।, এট...</td>\n",
       "      <td>{'প্রবেশ': 1, 'হাজীর': 1, 'তাকে': 4, 'চলাকালীন...</td>\n",
       "    </tr>\n",
       "  </tbody>\n",
       "</table>\n",
       "</div>"
      ],
      "text/plain": [
       "          id  post_by_id     type  \\\n",
       "1995  410791       41642  article   \n",
       "1996  410874       29373  article   \n",
       "1997  411096        2232  article   \n",
       "1998  411097        2232  article   \n",
       "1999  411099        2232  article   \n",
       "\n",
       "                                                 status  \\\n",
       "1995  <br> » যারা নিয়মিত সকালের নাশতায় ডিম<br> খাও...   \n",
       "1996  ভাববেন না এখানে সবাই আপনার মত একই উদ্দেশ্য আসা...   \n",
       "1997  <p style=\"margin: 0px 0px 10px; color: rgb(51,...   \n",
       "1998  <p style=\"margin: 0px 0px 10px; color: rgb(51,...   \n",
       "1999  <span style=\"color: rgb(51, 51, 51); font-fami...   \n",
       "\n",
       "                                         cleaned_status  \\\n",
       "1995   » যারা নিয়মিত সকালের নাশতায় ডিম খাওয়ার অভ্...   \n",
       "1996  ভাববেন না এখানে সবাই আপনার মত একই উদ্দেশ্য আসা...   \n",
       "1997  হংকংয়ের চীনা তরুণ চাও হোই-লিয়াং মা-বাবার প্রিয়...   \n",
       "1998  পরিবারের লোকজন ভেবেছিলেন কোন কালা জাদু ভর করেছ...   \n",
       "1999  পবিত্র হজ মহান আল্লাহর এক বড় হুকুম। এটি ইসলামে...   \n",
       "\n",
       "                                                 tokens  \\\n",
       "1995  [», যারা, নিয়মিত, সকাল, নাশতায়, ডিম, খাওয়ার...   \n",
       "1996  [ভাববেন, না, এখানে, সবাই, আপনার, মত, একই, উদ্দ...   \n",
       "1997  [হংকংয়, চীনা, তরুণ, চাও, হোই-লিয়াং, মা-বাবার, ...   \n",
       "1998  [পরিবার, লোকজন, ভেবে, কোন, কালা, জাদু, ভর, করে...   \n",
       "1999  [পবিত্র, হজ, মহান, আল্লাহর, এক, বড়, হুকুম।, এট...   \n",
       "\n",
       "                                         frequency_dist  \n",
       "1995  {'পরিস্কার': 1, 'খেয়ে': 1, 'ডিম': 1, '»': 6, ...  \n",
       "1996  {'করছি': 1, 'সামনে': 1, 'হয়': 2, 'হলে': 1, 'ব...  \n",
       "1997  {'বন্ধুরা': 1, 'খুঁজতে।': 1, 'গড়ে': 1, 'এটাই':...  \n",
       "1998  {'থাকেন': 1, 'ঝুলে': 1, 'রাজীব': 1, 'নিশ্বাসে'...  \n",
       "1999  {'প্রবেশ': 1, 'হাজীর': 1, 'তাকে': 4, 'চলাকালীন...  "
      ]
     },
     "execution_count": 9,
     "metadata": {},
     "output_type": "execute_result"
    }
   ],
   "source": [
    "posts.tail()"
   ]
  },
  {
   "cell_type": "code",
   "execution_count": 10,
   "metadata": {
    "collapsed": false
   },
   "outputs": [
    {
     "data": {
      "text/plain": [
       "article    2000\n",
       "Name: type, dtype: int64"
      ]
     },
     "execution_count": 10,
     "metadata": {},
     "output_type": "execute_result"
    }
   ],
   "source": [
    "posts['type'].value_counts()"
   ]
  },
  {
   "cell_type": "markdown",
   "metadata": {},
   "source": [
    "<br>\n",
    "<br>\n",
    "## Build Vocabulary"
   ]
  },
  {
   "cell_type": "code",
   "execution_count": 11,
   "metadata": {
    "collapsed": true
   },
   "outputs": [],
   "source": [
    "beshto_vocabulary = [word for tokens in posts['tokens'] for word in tokens]\n",
    "#for tokens in posts['tokens'][:10]:\n",
    "#    for word in tokens:\n",
    "#        beshto_vocabulary.append(word)"
   ]
  },
  {
   "cell_type": "code",
   "execution_count": 12,
   "metadata": {
    "collapsed": false
   },
   "outputs": [
    {
     "data": {
      "text/plain": [
       "490160"
      ]
     },
     "execution_count": 12,
     "metadata": {},
     "output_type": "execute_result"
    }
   ],
   "source": [
    "len(beshto_vocabulary)"
   ]
  },
  {
   "cell_type": "code",
   "execution_count": 13,
   "metadata": {
    "collapsed": false
   },
   "outputs": [
    {
     "name": "stdout",
     "output_type": "stream",
     "text": [
      "<class 'nltk.probability.FreqDist'>\n"
     ]
    }
   ],
   "source": [
    "beshto_vocabulary = nltk.FreqDist(beshto_vocabulary)\n",
    "print(type(beshto_vocabulary))"
   ]
  },
  {
   "cell_type": "code",
   "execution_count": 15,
   "metadata": {
    "collapsed": false
   },
   "outputs": [
    {
     "data": {
      "text/plain": [
       "[(',', 18894),\n",
       " ('!', 4594),\n",
       " ('করে', 4571),\n",
       " ('না', 4050),\n",
       " (')', 3284),\n",
       " ('?', 3125),\n",
       " ('আর', 2939),\n",
       " ('...', 2838),\n",
       " ('এই', 2806),\n",
       " ('(', 2705),\n",
       " ('আমার', 2547),\n",
       " ('আমি', 2286),\n",
       " ('থেকে', 2196),\n",
       " ('ও', 2136),\n",
       " ('তার', 1973),\n",
       " (':', 1890),\n",
       " ('যে', 1863),\n",
       " ('কি', 1857),\n",
       " ('তা', 1807),\n",
       " ('এবং', 1781),\n",
       " ('করতে', 1746),\n",
       " ('জন্য', 1714),\n",
       " ('কিন্তু', 1683),\n",
       " ('আমা', 1664),\n",
       " ('--', 1624),\n",
       " ('কিছু', 1615),\n",
       " ('অনেক', 1501),\n",
       " ('দিয়ে', 1447),\n",
       " ('.', 1425),\n",
       " ('মানুষ', 1393),\n",
       " ('সাথে', 1376),\n",
       " ('হয়ে', 1330),\n",
       " ('এক', 1329),\n",
       " ('কোন', 1308),\n",
       " ('বা', 1299),\n",
       " ('হয়', 1286),\n",
       " ('করা', 1285),\n",
       " ('এর', 1284),\n",
       " ('।', 1268),\n",
       " ('হবে', 1260),\n",
       " ('একটি', 1257),\n",
       " ('কথা', 1253),\n",
       " ('একটা', 1230),\n",
       " ('না।', 1220),\n",
       " ('নিয়ে', 1220),\n",
       " ('এ', 1201),\n",
       " ('মনে', 1148),\n",
       " ('আমরা', 1145),\n",
       " ('সে', 1128),\n",
       " ('সেই', 1016)]"
      ]
     },
     "execution_count": 15,
     "metadata": {},
     "output_type": "execute_result"
    }
   ],
   "source": [
    "beshto_vocabulary.most_common(50)"
   ]
  },
  {
   "cell_type": "markdown",
   "metadata": {},
   "source": [
    "<br>\n",
    "<br>\n",
    "### Words to feature"
   ]
  },
  {
   "cell_type": "code",
   "execution_count": 16,
   "metadata": {
    "collapsed": false
   },
   "outputs": [
    {
     "data": {
      "text/plain": [
       "52553"
      ]
     },
     "execution_count": 16,
     "metadata": {},
     "output_type": "execute_result"
    }
   ],
   "source": [
    "vocabulary_list = list(beshto_vocabulary.keys())\n",
    "len(vocabulary_list)"
   ]
  },
  {
   "cell_type": "code",
   "execution_count": 17,
   "metadata": {
    "collapsed": true
   },
   "outputs": [],
   "source": [
    "def find_features(token_list):\n",
    "    features = {}\n",
    "    for w in vocabulary_list:\n",
    "        features[w] = (w in token_list)\n",
    "    return features"
   ]
  },
  {
   "cell_type": "code",
   "execution_count": null,
   "metadata": {
    "collapsed": false
   },
   "outputs": [],
   "source": [
    "posts['feature'] = posts['tokens'].apply(find_features)"
   ]
  },
  {
   "cell_type": "code",
   "execution_count": null,
   "metadata": {
    "collapsed": true
   },
   "outputs": [],
   "source": []
  }
 ],
 "metadata": {
  "anaconda-cloud": {},
  "kernelspec": {
   "display_name": "Python [Root]",
   "language": "python",
   "name": "Python [Root]"
  },
  "language_info": {
   "codemirror_mode": {
    "name": "ipython",
    "version": 3
   },
   "file_extension": ".py",
   "mimetype": "text/x-python",
   "name": "python",
   "nbconvert_exporter": "python",
   "pygments_lexer": "ipython3",
   "version": "3.5.2"
  }
 },
 "nbformat": 4,
 "nbformat_minor": 0
}
